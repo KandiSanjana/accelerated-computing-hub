{
  "cells": [
    {
      "cell_type": "markdown",
      "metadata": {},
      "source": [
        "<img src=\"Images/nvidia_header.png\" style=\"margin-left: -30px; width: 300px; float: left;\">"
      ]
    },
    {
      "cell_type": "markdown",
      "metadata": {},
      "source": [
        "## Exercise: Profile Your Code with Nsight Systems\n",
        "\n",
        "In this exercise, you will learn how to profile your code with Nsight Systems. \n",
        "Nsight Systems is a system-wide performance analysis tool, designed to visualize CPU and GPU activities. \n",
        "\n",
        "To run Nsight Systems, you can use the command-line interface provided by `nsys`:"
      ]
    },
    {
      "cell_type": "code",
      "execution_count": null,
      "metadata": {
        "cellView": "form"
      },
      "outputs": [],
      "source": [
        "#@title Google Colab Setup\n",
        "!mkdir -p Solutions\n",
        "!wget https://raw.githubusercontent.com/NVIDIA/accelerated-computing-hub/refs/heads/main/gpu-cpp-tutorial/notebooks/02.02-Asynchrony/Solutions/ach.h -nv -O Solutions/ach.h\n",
        "!wget https://raw.githubusercontent.com/NVIDIA/accelerated-computing-hub/refs/heads/main/gpu-cpp-tutorial/notebooks/02.02-Asynchrony/Solutions/nvtx3.hpp -nv -O Solutions/nvtx3.hpp\n",
        "!wget https://raw.githubusercontent.com/NVIDIA/accelerated-computing-hub/refs/heads/main/gpu-cpp-tutorial/notebooks/02.02-Asynchrony/Sources/compute-io-overlap.cpp -nv -O Solutions/compute-io-overlap.cpp"
      ]
    },
    {
      "cell_type": "code",
      "execution_count": null,
      "metadata": {},
      "outputs": [],
      "source": [
        "!nvcc --extended-lambda -o /tmp/a.out Solutions/compute-io-overlap.cpp -x cu -arch=native # build executable\n",
        "!nsys profile --force-overwrite true -o ../nsight-reports/compute-io-overlap /tmp/a.out # run and profile executable"
      ]
    },
    {
      "cell_type": "markdown",
      "metadata": {},
      "source": [
        "The code above stores the output in a file called `compute-io-overlap` in `nsight-reports` directory.\n",
        "Launch Nsight Systems and open the report file.\n",
        "Your task is to navigate the report and identify:\n",
        "- when GPU compute is launched\n",
        "- when CPU writes data on disk\n",
        "- when CPU waits for GPU\n",
        "- when data is transferred between CPU and GPU"
      ]
    },
    {
      "cell_type": "markdown",
      "metadata": {},
      "source": [
        "If you’re unsure how to proceed, consider expanding this section for guidance. Use the hint only after giving the problem a genuine attempt.\n",
        "\n",
        "<details>\n",
        "  <summary>Hints</summary>\n",
        "  \n",
        "  - Try unfolding \"CUDA HW\" section to see more detail on what is happening on the GPU\n",
        "  - Memory transfers between CPU and GPU will be under \"CUDA HW / Memory\" section\n",
        "  - IO-related activities on CPU should express themselves as `writev` and `fclose` system calls\n",
        "</details>"
      ]
    },
    {
      "cell_type": "markdown",
      "metadata": {},
      "source": [
        "Open this section only after you’ve made a serious attempt at solving the problem. Once you’ve completed your solution, compare it with the reference provided here to evaluate your approach and identify any potential improvements.\n",
        "\n",
        "<details>\n",
        "  <summary>Solution</summary>\n",
        "\n",
        "  Launch of computation happens on the CPU side:\n",
        "  ![Compute](Images/compute.png \"Compute\")\n",
        "\n",
        "  Data transfer between CPU and GPU can be located in the \"CUDA HW / Memory\" section:\n",
        "\n",
        "  ![Copy](Images/copy.png \"Copy\")\n",
        "\n",
        "  CPU writes data on disk can be found in the \"OS runtime libraries\" section:\n",
        "  ![Write](Images/write.png \"Write\")\n",
        "\n",
        "</details>"
      ]
    },
    {
      "cell_type": "markdown",
      "metadata": {},
      "source": [
        "---\n",
        "Congratulations! Proceed to the [next exercise](02.02.04-Exercise-NVTX.ipynb)."
      ]
    },
    {
      "cell_type": "markdown",
      "metadata": {},
      "source": [
        "<img src=\"Images/nvidia_header.png\" style=\"margin-left: -30px; width: 300px; float: left;\">"
      ]
    }
  ],
  "metadata": {
    "kernelspec": {
      "display_name": "Python 3",
      "language": "python",
      "name": "python3"
    },
    "language_info": {
      "codemirror_mode": {
        "name": "ipython",
        "version": 3
      },
      "file_extension": ".py",
      "mimetype": "text/x-python",
      "name": "python",
      "nbconvert_exporter": "python",
      "pygments_lexer": "ipython3",
      "version": "3.10.12"
    }
  },
  "nbformat": 4,
  "nbformat_minor": 4
}